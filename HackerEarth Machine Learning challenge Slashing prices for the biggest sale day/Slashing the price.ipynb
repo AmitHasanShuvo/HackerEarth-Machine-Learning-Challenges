{
 "cells": [
  {
   "cell_type": "markdown",
   "metadata": {},
   "source": [
    "# Author: Kazi Amit Hasan\n",
    "\n",
    "Department of Computer Science & Engineering, <br/>\n",
    "Rajshahi University of Engineering & Technology (RUET) <br/>\n",
    "Website: https://amithasanshuvo.github.io/ <br/>\n",
    "ResearchGate: https://www.researchgate.net/profile/Kazi_Amit_Hasan <br/>\n",
    "Linkedin: hhttps://www.linkedin.com/in/kazi-amit-hasan/<br/>\n",
    "Email: kaziamithasan89@gmail.com <hr>"
   ]
  },
  {
   "cell_type": "markdown",
   "metadata": {},
   "source": [
    "## Competition: HackerEarth Machine Learning challenge: Slashing prices for the biggest sale day\n",
    "\n",
    "### Task: Predict the lowest price\n",
    "\n",
    "A leading global leader of e-commerce has over 150 million paid subscription users. One of the many perks of the subscription is the privilege of buying products at lower prices. For an upcoming sale, the organization has decided to promote local artisans and their products, to help them through these tough times. However, slashed prices may impact local artists.\n",
    "\n",
    "To not let discounts affect local artists, the company has decided to determine the lowest price at which a particular good can be sold. Your task is to build a predictive model using Machine Learning that helps them set up a lowest-pricing model for these products.\n",
    "\n",
    "You have to predict the Low_Cap_Price column.\n",
    "\n",
    "The dataset folder consists of the following files:\n",
    "\n",
    "- Train.csv: Contains training data [9798 x 9] that must be used to build the model\n",
    "- Test.csv: Contains test data [5763 x 8] to be predicted on\n",
    "- sample_submission.csv: Contains sample submission format with dummy values filled for test data"
   ]
  },
  {
   "cell_type": "code",
   "execution_count": 23,
   "metadata": {},
   "outputs": [],
   "source": [
    "# Importing all the libraries\n",
    "import numpy as np\n",
    "import pandas as pd\n",
    "import matplotlib.pyplot as plt"
   ]
  },
  {
   "cell_type": "code",
   "execution_count": 24,
   "metadata": {},
   "outputs": [],
   "source": [
    "# Loading the files\n",
    "train = pd.read_csv(\"Dataset/Train.csv\")\n",
    "test = pd.read_csv(\"Dataset/Test.csv\")"
   ]
  },
  {
   "cell_type": "code",
   "execution_count": 25,
   "metadata": {},
   "outputs": [
    {
     "data": {
      "text/html": [
       "<div>\n",
       "<style scoped>\n",
       "    .dataframe tbody tr th:only-of-type {\n",
       "        vertical-align: middle;\n",
       "    }\n",
       "\n",
       "    .dataframe tbody tr th {\n",
       "        vertical-align: top;\n",
       "    }\n",
       "\n",
       "    .dataframe thead th {\n",
       "        text-align: right;\n",
       "    }\n",
       "</style>\n",
       "<table border=\"1\" class=\"dataframe\">\n",
       "  <thead>\n",
       "    <tr style=\"text-align: right;\">\n",
       "      <th></th>\n",
       "      <th>Item_Id</th>\n",
       "      <th>Date</th>\n",
       "      <th>State_of_Country</th>\n",
       "      <th>Market_Category</th>\n",
       "      <th>Product_Category</th>\n",
       "      <th>Grade</th>\n",
       "      <th>Demand</th>\n",
       "      <th>Low_Cap_Price</th>\n",
       "      <th>High_Cap_Price</th>\n",
       "    </tr>\n",
       "  </thead>\n",
       "  <tbody>\n",
       "    <tr>\n",
       "      <th>0</th>\n",
       "      <td>IT_1</td>\n",
       "      <td>2007-07-05</td>\n",
       "      <td>0</td>\n",
       "      <td>0</td>\n",
       "      <td>0</td>\n",
       "      <td>0</td>\n",
       "      <td>0.5</td>\n",
       "      <td>2785</td>\n",
       "      <td>4240</td>\n",
       "    </tr>\n",
       "    <tr>\n",
       "      <th>1</th>\n",
       "      <td>IT_2</td>\n",
       "      <td>2007-07-05</td>\n",
       "      <td>0</td>\n",
       "      <td>1</td>\n",
       "      <td>0</td>\n",
       "      <td>0</td>\n",
       "      <td>0.7</td>\n",
       "      <td>3574</td>\n",
       "      <td>4756</td>\n",
       "    </tr>\n",
       "    <tr>\n",
       "      <th>2</th>\n",
       "      <td>IT_3</td>\n",
       "      <td>2007-07-05</td>\n",
       "      <td>0</td>\n",
       "      <td>103</td>\n",
       "      <td>0</td>\n",
       "      <td>1</td>\n",
       "      <td>1.6</td>\n",
       "      <td>5978</td>\n",
       "      <td>9669</td>\n",
       "    </tr>\n",
       "    <tr>\n",
       "      <th>3</th>\n",
       "      <td>IT_4</td>\n",
       "      <td>2007-07-05</td>\n",
       "      <td>0</td>\n",
       "      <td>103</td>\n",
       "      <td>0</td>\n",
       "      <td>0</td>\n",
       "      <td>0.0</td>\n",
       "      <td>5681</td>\n",
       "      <td>8313</td>\n",
       "    </tr>\n",
       "    <tr>\n",
       "      <th>4</th>\n",
       "      <td>IT_5</td>\n",
       "      <td>2007-07-05</td>\n",
       "      <td>0</td>\n",
       "      <td>103</td>\n",
       "      <td>0</td>\n",
       "      <td>2</td>\n",
       "      <td>0.0</td>\n",
       "      <td>4924</td>\n",
       "      <td>7257</td>\n",
       "    </tr>\n",
       "  </tbody>\n",
       "</table>\n",
       "</div>"
      ],
      "text/plain": [
       "  Item_Id        Date  State_of_Country  Market_Category  Product_Category  \\\n",
       "0    IT_1  2007-07-05                 0                0                 0   \n",
       "1    IT_2  2007-07-05                 0                1                 0   \n",
       "2    IT_3  2007-07-05                 0              103                 0   \n",
       "3    IT_4  2007-07-05                 0              103                 0   \n",
       "4    IT_5  2007-07-05                 0              103                 0   \n",
       "\n",
       "   Grade  Demand  Low_Cap_Price  High_Cap_Price  \n",
       "0      0     0.5           2785            4240  \n",
       "1      0     0.7           3574            4756  \n",
       "2      1     1.6           5978            9669  \n",
       "3      0     0.0           5681            8313  \n",
       "4      2     0.0           4924            7257  "
      ]
     },
     "execution_count": 25,
     "metadata": {},
     "output_type": "execute_result"
    }
   ],
   "source": [
    "# Printing them\n",
    "train.head()"
   ]
  },
  {
   "cell_type": "code",
   "execution_count": 26,
   "metadata": {},
   "outputs": [],
   "source": [
    "# Changing the type\n",
    "test['Demand'] = test['Demand'].astype('int64')\n"
   ]
  },
  {
   "cell_type": "code",
   "execution_count": null,
   "metadata": {},
   "outputs": [],
   "source": [
    "# # Changing the type\n",
    "train['Demand'] = train['Demand'].astype('int64')"
   ]
  },
  {
   "cell_type": "code",
   "execution_count": 27,
   "metadata": {},
   "outputs": [
    {
     "data": {
      "text/plain": [
       "Index(['State_of_Country', 'Market_Category', 'Product_Category', 'Grade',\n",
       "       'Demand', 'High_Cap_Price'],\n",
       "      dtype='object')"
      ]
     },
     "execution_count": 27,
     "metadata": {},
     "output_type": "execute_result"
    }
   ],
   "source": [
    "# Fixing the X_train and dropping columns\n",
    "X_train = train.drop(['Item_Id', 'Date', 'Low_Cap_Price'],axis = 1)\n",
    "X_train.columns"
   ]
  },
  {
   "cell_type": "code",
   "execution_count": 28,
   "metadata": {},
   "outputs": [
    {
     "data": {
      "text/plain": [
       "Index(['State_of_Country', 'Market_Category', 'Product_Category', 'Grade',\n",
       "       'Demand', 'High_Cap_Price'],\n",
       "      dtype='object')"
      ]
     },
     "execution_count": 28,
     "metadata": {},
     "output_type": "execute_result"
    }
   ],
   "source": [
    "# Same process like above\n",
    "X_test = test.drop(['Item_Id', 'Date'], axis = 1)\n",
    "X_test.columns"
   ]
  },
  {
   "cell_type": "code",
   "execution_count": 29,
   "metadata": {},
   "outputs": [],
   "source": [
    "# Setting the predict variabkle here and the shape\n",
    "y_train = train['Low_Cap_Price']"
   ]
  },
  {
   "cell_type": "code",
   "execution_count": null,
   "metadata": {},
   "outputs": [],
   "source": [
    "X_train.shape"
   ]
  },
  {
   "cell_type": "code",
   "execution_count": 9,
   "metadata": {},
   "outputs": [
    {
     "data": {
      "text/plain": [
       "LinearRegression()"
      ]
     },
     "execution_count": 9,
     "metadata": {},
     "output_type": "execute_result"
    }
   ],
   "source": [
    "# Trying LR\n",
    "from sklearn.linear_model import LinearRegression\n",
    "clf = LinearRegression()\n",
    "clf.fit(X_train, y_train)"
   ]
  },
  {
   "cell_type": "code",
   "execution_count": 10,
   "metadata": {},
   "outputs": [
    {
     "data": {
      "text/plain": [
       "array([ 2418.53967135,  4100.02927888, 11192.73258092, ...,\n",
       "        5913.77916699,  5293.24905298,  6569.9374812 ])"
      ]
     },
     "execution_count": 10,
     "metadata": {},
     "output_type": "execute_result"
    }
   ],
   "source": [
    "preds = clf.predict(X_test)\n",
    "preds"
   ]
  },
  {
   "cell_type": "code",
   "execution_count": 11,
   "metadata": {},
   "outputs": [],
   "source": [
    "submission = pd.DataFrame({'Item_Id':test['Item_Id'], 'Low_Cap_Price':preds})\n",
    "submission.to_csv('SumissionFile.csv', index=False)"
   ]
  },
  {
   "cell_type": "code",
   "execution_count": 37,
   "metadata": {},
   "outputs": [
    {
     "data": {
      "text/plain": [
       "RandomForestRegressor(bootstrap=True, ccp_alpha=0, criterion='mse',\n",
       "                      max_depth=10, max_features=6, max_leaf_nodes=None,\n",
       "                      max_samples=None, min_impurity_decrease=0.0,\n",
       "                      min_impurity_split=None, min_samples_leaf=6,\n",
       "                      min_samples_split=12, min_weight_fraction_leaf=0.0,\n",
       "                      n_estimators=400, n_jobs=-1, oob_score=False,\n",
       "                      random_state=10, verbose=0, warm_start=False)"
      ]
     },
     "execution_count": 37,
     "metadata": {},
     "output_type": "execute_result"
    }
   ],
   "source": [
    "# Trying RF\n",
    "\n",
    "from sklearn.ensemble import RandomForestRegressor\n",
    "clf2 = RandomForestRegressor(bootstrap= True,max_depth=10, max_features=6, n_estimators=400,min_samples_leaf=6\n",
    "                             ,min_samples_split=12, random_state=10,ccp_alpha=0,n_jobs=-1) \n",
    "clf2.fit(X_train,y_train)"
   ]
  },
  {
   "cell_type": "code",
   "execution_count": 34,
   "metadata": {},
   "outputs": [
    {
     "data": {
      "text/plain": [
       "array([3202.2141618 , 2844.18582316, 5728.89556476, ..., 6573.06454377,\n",
       "       5385.94048123, 7425.8844049 ])"
      ]
     },
     "execution_count": 34,
     "metadata": {},
     "output_type": "execute_result"
    }
   ],
   "source": [
    "preds2 = clf2.predict(X_test)\n",
    "preds2"
   ]
  },
  {
   "cell_type": "code",
   "execution_count": 35,
   "metadata": {},
   "outputs": [],
   "source": [
    "submission = pd.DataFrame({'Item_Id':test['Item_Id'], 'Low_Cap_Price':preds2})\n",
    "submission.to_csv('SubmissionFile.csv', index=False)"
   ]
  },
  {
   "cell_type": "code",
   "execution_count": 18,
   "metadata": {},
   "outputs": [],
   "source": [
    "# Trying Standart scaler\n",
    "from sklearn.preprocessing import StandardScaler\n",
    "\n",
    "scaler = StandardScaler().fit(X_train)\n",
    "rescaled_X_train = scaler.transform(X_train)"
   ]
  },
  {
   "cell_type": "code",
   "execution_count": 63,
   "metadata": {},
   "outputs": [
    {
     "data": {
      "text/plain": [
       "KNeighborsRegressor(algorithm='brute', leaf_size=30, metric='minkowski',\n",
       "                    metric_params=None, n_jobs=None, n_neighbors=5, p=2,\n",
       "                    weights='uniform')"
      ]
     },
     "execution_count": 63,
     "metadata": {},
     "output_type": "execute_result"
    }
   ],
   "source": [
    "# Trying Knn\n",
    "from sklearn.neighbors import KNeighborsRegressor\n",
    "clf3 = KNeighborsRegressor(algorithm='brute')\n",
    "\n",
    "clf3.fit(X_train,y_train)\n",
    "#from sklearn.neighbors import KNeighborsRegressor\n",
    "\n"
   ]
  },
  {
   "cell_type": "code",
   "execution_count": 64,
   "metadata": {},
   "outputs": [
    {
     "data": {
      "text/plain": [
       "array([3615.4, 3731. , 8944. , ..., 7283.6, 5817.4, 6286.4])"
      ]
     },
     "execution_count": 64,
     "metadata": {},
     "output_type": "execute_result"
    }
   ],
   "source": [
    "preds3 = clf3.predict(X_test)\n",
    "preds3"
   ]
  },
  {
   "cell_type": "code",
   "execution_count": 65,
   "metadata": {},
   "outputs": [],
   "source": [
    "submission = pd.DataFrame({'Item_Id':test['Item_Id'], 'Low_Cap_Price':preds3})\n",
    "submission.to_csv('Submission Files.csv', index=False)"
   ]
  },
  {
   "cell_type": "code",
   "execution_count": 31,
   "metadata": {},
   "outputs": [
    {
     "data": {
      "text/plain": [
       "SVR(C=1.0, cache_size=200, coef0=0.0, degree=3, epsilon=0.1, gamma='scale',\n",
       "    kernel='linear', max_iter=-1, shrinking=True, tol=0.001, verbose=False)"
      ]
     },
     "execution_count": 31,
     "metadata": {},
     "output_type": "execute_result"
    }
   ],
   "source": [
    "# trying svr\n",
    "from sklearn.svm import SVR\n",
    "clf4 = SVR(kernel = 'linear')\n",
    "clf4.fit(X_train,y_train)\n"
   ]
  },
  {
   "cell_type": "code",
   "execution_count": 32,
   "metadata": {},
   "outputs": [
    {
     "data": {
      "text/plain": [
       "array([ 2542.02264256,  4907.44105381, 13236.55784459, ...,\n",
       "        6283.09381718,  5457.45188755,  7140.40947956])"
      ]
     },
     "execution_count": 32,
     "metadata": {},
     "output_type": "execute_result"
    }
   ],
   "source": [
    "preds4 = clf4.predict(X_test)\n",
    "preds4"
   ]
  },
  {
   "cell_type": "code",
   "execution_count": 33,
   "metadata": {},
   "outputs": [],
   "source": [
    "submission = pd.DataFrame({'Item_Id':test['Item_Id'], 'Low_Cap_Price':preds4})\n",
    "submission.to_csv('Submission Files.csv', index=False)"
   ]
  },
  {
   "cell_type": "code",
   "execution_count": 17,
   "metadata": {},
   "outputs": [],
   "source": [
    "submission = pd.DataFrame({'Item_Id':test['Item_Id'], 'Low_Cap_Price':preds5})\n",
    "submission.to_csv('Submission Files.csv', index=False)"
   ]
  },
  {
   "cell_type": "code",
   "execution_count": 97,
   "metadata": {},
   "outputs": [],
   "source": [
    "# Selecting the best params\n",
    "\n",
    "from sklearn.model_selection import GridSearchCV\n",
    "# Create the parameter grid based on the results of random search \n",
    "param_grid = {\n",
    "    'bootstrap': [True],\n",
    "    'max_depth': [10,50,80, 90, 100, 110],\n",
    "    'max_features': [2, 3,5,6],\n",
    "    'min_samples_leaf': [3, 4, 5],\n",
    "    'min_samples_split': [8, 10, 12],\n",
    "    'n_estimators': [100, 200,400, 300, 1000]\n",
    "}\n",
    "# Create a based model\n",
    "rf = RandomForestRegressor()\n",
    "# Instantiate the grid search model\n",
    "grid_search = GridSearchCV(estimator = rf, param_grid = param_grid, \n",
    "                          cv = 10, n_jobs = -1, verbose = 2)"
   ]
  },
  {
   "cell_type": "code",
   "execution_count": 98,
   "metadata": {},
   "outputs": [
    {
     "name": "stdout",
     "output_type": "stream",
     "text": [
      "Fitting 10 folds for each of 1080 candidates, totalling 10800 fits\n"
     ]
    },
    {
     "name": "stderr",
     "output_type": "stream",
     "text": [
      "[Parallel(n_jobs=-1)]: Using backend LokyBackend with 4 concurrent workers.\n",
      "[Parallel(n_jobs=-1)]: Done  33 tasks      | elapsed:   16.4s\n",
      "[Parallel(n_jobs=-1)]: Done 154 tasks      | elapsed:  1.9min\n",
      "[Parallel(n_jobs=-1)]: Done 357 tasks      | elapsed:  4.5min\n",
      "[Parallel(n_jobs=-1)]: Done 640 tasks      | elapsed:  9.1min\n",
      "[Parallel(n_jobs=-1)]: Done 1005 tasks      | elapsed: 17.0min\n",
      "[Parallel(n_jobs=-1)]: Done 1450 tasks      | elapsed: 31.6min\n",
      "[Parallel(n_jobs=-1)]: Done 1977 tasks      | elapsed: 48.8min\n",
      "[Parallel(n_jobs=-1)]: Done 2584 tasks      | elapsed: 63.6min\n",
      "[Parallel(n_jobs=-1)]: Done 3273 tasks      | elapsed: 87.9min\n",
      "[Parallel(n_jobs=-1)]: Done 4042 tasks      | elapsed: 111.2min\n",
      "[Parallel(n_jobs=-1)]: Done 4893 tasks      | elapsed: 135.7min\n",
      "[Parallel(n_jobs=-1)]: Done 5824 tasks      | elapsed: 161.7min\n",
      "[Parallel(n_jobs=-1)]: Done 6837 tasks      | elapsed: 191.5min\n",
      "[Parallel(n_jobs=-1)]: Done 7930 tasks      | elapsed: 495.2min\n",
      "[Parallel(n_jobs=-1)]: Done 9105 tasks      | elapsed: 531.1min\n",
      "[Parallel(n_jobs=-1)]: Done 10360 tasks      | elapsed: 563.0min\n",
      "[Parallel(n_jobs=-1)]: Done 10800 out of 10800 | elapsed: 577.7min finished\n"
     ]
    },
    {
     "data": {
      "text/plain": [
       "GridSearchCV(cv=10, estimator=RandomForestRegressor(), n_jobs=-1,\n",
       "             param_grid={'bootstrap': [True],\n",
       "                         'max_depth': [10, 50, 80, 90, 100, 110],\n",
       "                         'max_features': [2, 3, 5, 6],\n",
       "                         'min_samples_leaf': [3, 4, 5],\n",
       "                         'min_samples_split': [8, 10, 12],\n",
       "                         'n_estimators': [100, 200, 400, 300, 1000]},\n",
       "             verbose=2)"
      ]
     },
     "execution_count": 98,
     "metadata": {},
     "output_type": "execute_result"
    }
   ],
   "source": [
    "grid_search.fit(X_train, y_train)"
   ]
  },
  {
   "cell_type": "code",
   "execution_count": 100,
   "metadata": {},
   "outputs": [
    {
     "data": {
      "text/plain": [
       "{'bootstrap': True,\n",
       " 'max_depth': 80,\n",
       " 'max_features': 3,\n",
       " 'min_samples_leaf': 3,\n",
       " 'min_samples_split': 10,\n",
       " 'n_estimators': 1000}"
      ]
     },
     "execution_count": 100,
     "metadata": {},
     "output_type": "execute_result"
    }
   ],
   "source": [
    "grid_search.best_params_\n"
   ]
  },
  {
   "cell_type": "code",
   "execution_count": null,
   "metadata": {},
   "outputs": [],
   "source": [
    "# The settings by which we got the best result\n",
    "\n",
    "from sklearn.ensemble import RandomForestRegressor\n",
    "clf2 = RandomForestRegressor(bootstrap= True,max_depth=10, max_features=6, n_estimators=400,min_samples_leaf=5\n",
    "                             ,min_samples_split=12, random_state=10) \n",
    "clf2.fit(X_train,y_train)\n",
    "\n",
    "#This got me 99.84988 "
   ]
  }
 ],
 "metadata": {
  "kernelspec": {
   "display_name": "Python 3",
   "language": "python",
   "name": "python3"
  },
  "language_info": {
   "codemirror_mode": {
    "name": "ipython",
    "version": 3
   },
   "file_extension": ".py",
   "mimetype": "text/x-python",
   "name": "python",
   "nbconvert_exporter": "python",
   "pygments_lexer": "ipython3",
   "version": "3.8.3"
  }
 },
 "nbformat": 4,
 "nbformat_minor": 4
}
