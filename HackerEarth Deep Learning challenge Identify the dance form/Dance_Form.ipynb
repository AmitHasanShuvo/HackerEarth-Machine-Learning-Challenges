{
 "cells": [
  {
   "cell_type": "code",
   "execution_count": 1,
   "metadata": {
    "colab": {
     "base_uri": "https://localhost:8080/",
     "height": 71
    },
    "colab_type": "code",
    "id": "voixcvNt7igV",
    "outputId": "7bce0143-6a5c-4500-cb85-5f125e6c88db"
   },
   "outputs": [
    {
     "name": "stderr",
     "output_type": "stream",
     "text": [
      "/usr/local/lib/python3.6/dist-packages/statsmodels/tools/_testing.py:19: FutureWarning: pandas.util.testing is deprecated. Use the functions in the public API at pandas.testing instead.\n",
      "  import pandas.util.testing as tm\n"
     ]
    }
   ],
   "source": [
    "import os\n",
    "import pandas as pd\n",
    "import numpy as np\n",
    "import seaborn as sns\n",
    "import cv2\n",
    "from tqdm import tqdm\n",
    "import matplotlib.pyplot as plt"
   ]
  },
  {
   "cell_type": "code",
   "execution_count": 2,
   "metadata": {
    "colab": {
     "base_uri": "https://localhost:8080/",
     "height": 122
    },
    "colab_type": "code",
    "id": "jUm0WIBU72sV",
    "outputId": "5ea98b3c-2bb4-4e01-8382-956a15b4770a"
   },
   "outputs": [
    {
     "name": "stdout",
     "output_type": "stream",
     "text": [
      "Go to this URL in a browser: https://accounts.google.com/o/oauth2/auth?client_id=947318989803-6bn6qk8qdgf4n4g3pfee6491hc0brc4i.apps.googleusercontent.com&redirect_uri=urn%3aietf%3awg%3aoauth%3a2.0%3aoob&response_type=code&scope=email%20https%3a%2f%2fwww.googleapis.com%2fauth%2fdocs.test%20https%3a%2f%2fwww.googleapis.com%2fauth%2fdrive%20https%3a%2f%2fwww.googleapis.com%2fauth%2fdrive.photos.readonly%20https%3a%2f%2fwww.googleapis.com%2fauth%2fpeopleapi.readonly\n",
      "\n",
      "Enter your authorization code:\n",
      "··········\n",
      "Mounted at /content/drive\n"
     ]
    }
   ],
   "source": [
    "from google.colab import drive\n",
    "drive.mount('/content/drive')"
   ]
  },
  {
   "cell_type": "code",
   "execution_count": 3,
   "metadata": {
    "colab": {},
    "colab_type": "code",
    "id": "Fo10MLwS73JJ"
   },
   "outputs": [],
   "source": [
    "!unzip -uq \"/content/drive/My Drive/dataset.zip\" -d \"/content/drive/My Drive/dataset\""
   ]
  },
  {
   "cell_type": "code",
   "execution_count": 6,
   "metadata": {
    "colab": {
     "base_uri": "https://localhost:8080/",
     "height": 204
    },
    "colab_type": "code",
    "id": "7P6MwzBq8ehr",
    "outputId": "6917f26b-db9e-4866-db56-f8109470ec36"
   },
   "outputs": [
    {
     "data": {
      "text/html": [
       "<div>\n",
       "<style scoped>\n",
       "    .dataframe tbody tr th:only-of-type {\n",
       "        vertical-align: middle;\n",
       "    }\n",
       "\n",
       "    .dataframe tbody tr th {\n",
       "        vertical-align: top;\n",
       "    }\n",
       "\n",
       "    .dataframe thead th {\n",
       "        text-align: right;\n",
       "    }\n",
       "</style>\n",
       "<table border=\"1\" class=\"dataframe\">\n",
       "  <thead>\n",
       "    <tr style=\"text-align: right;\">\n",
       "      <th></th>\n",
       "      <th>Image</th>\n",
       "      <th>target</th>\n",
       "    </tr>\n",
       "  </thead>\n",
       "  <tbody>\n",
       "    <tr>\n",
       "      <th>0</th>\n",
       "      <td>96.jpg</td>\n",
       "      <td>manipuri</td>\n",
       "    </tr>\n",
       "    <tr>\n",
       "      <th>1</th>\n",
       "      <td>163.jpg</td>\n",
       "      <td>bharatanatyam</td>\n",
       "    </tr>\n",
       "    <tr>\n",
       "      <th>2</th>\n",
       "      <td>450.jpg</td>\n",
       "      <td>odissi</td>\n",
       "    </tr>\n",
       "    <tr>\n",
       "      <th>3</th>\n",
       "      <td>219.jpg</td>\n",
       "      <td>kathakali</td>\n",
       "    </tr>\n",
       "    <tr>\n",
       "      <th>4</th>\n",
       "      <td>455.jpg</td>\n",
       "      <td>odissi</td>\n",
       "    </tr>\n",
       "  </tbody>\n",
       "</table>\n",
       "</div>"
      ],
      "text/plain": [
       "     Image         target\n",
       "0   96.jpg       manipuri\n",
       "1  163.jpg  bharatanatyam\n",
       "2  450.jpg         odissi\n",
       "3  219.jpg      kathakali\n",
       "4  455.jpg         odissi"
      ]
     },
     "execution_count": 6,
     "metadata": {
      "tags": []
     },
     "output_type": "execute_result"
    }
   ],
   "source": [
    "train = pd.read_csv('/content/drive/My Drive/dataset/dataset/train.csv')\n",
    "train.head()"
   ]
  },
  {
   "cell_type": "code",
   "execution_count": 7,
   "metadata": {
    "colab": {
     "base_uri": "https://localhost:8080/",
     "height": 170
    },
    "colab_type": "code",
    "id": "Bez8vr-r8p2S",
    "outputId": "5fe4cc9b-dd74-4c67-b28e-44e36b6a40af"
   },
   "outputs": [
    {
     "data": {
      "text/plain": [
       "mohiniyattam     50\n",
       "odissi           49\n",
       "bharatanatyam    47\n",
       "kathakali        47\n",
       "kuchipudi        46\n",
       "sattriya         45\n",
       "kathak           44\n",
       "manipuri         36\n",
       "Name: target, dtype: int64"
      ]
     },
     "execution_count": 7,
     "metadata": {
      "tags": []
     },
     "output_type": "execute_result"
    }
   ],
   "source": [
    "train['target'].value_counts()\n"
   ]
  },
  {
   "cell_type": "code",
   "execution_count": 8,
   "metadata": {
    "colab": {},
    "colab_type": "code",
    "id": "6bux-qXl8s-D"
   },
   "outputs": [],
   "source": [
    "test = pd.read_csv('/content/drive/My Drive/dataset/dataset/test.csv')\n"
   ]
  },
  {
   "cell_type": "code",
   "execution_count": 9,
   "metadata": {
    "colab": {},
    "colab_type": "code",
    "id": "RnwnbYb38p_T"
   },
   "outputs": [],
   "source": [
    "\n",
    "Class_map={'manipuri':0,'kathak':1,'sattriya':2,'kuchipudi':3,'kathakali':4,'bharatanatyam':5,'odissi':6,'mohiniyattam':7}\n",
    "inverse_map={0:'manipuri',1:'kathak',2:'sattriya',3:'kuchipudi',4:'kathakali',5:'bharatanatyam',6:'odissi',7:'mohiniyattam'}\n",
    "train['target']=train['target'].map(Class_map)"
   ]
  },
  {
   "cell_type": "code",
   "execution_count": 10,
   "metadata": {
    "colab": {
     "base_uri": "https://localhost:8080/",
     "height": 34
    },
    "colab_type": "code",
    "id": "dEF-NGoR8qCH",
    "outputId": "8b2e3da6-235e-45cd-eba5-f75a1983243a"
   },
   "outputs": [
    {
     "name": "stderr",
     "output_type": "stream",
     "text": [
      "100%|██████████| 364/364 [02:41<00:00,  2.26it/s]\n"
     ]
    }
   ],
   "source": [
    "train_img=[]\n",
    "train_label=[]\n",
    "j=0\n",
    "path='/content/drive/My Drive/dataset/dataset/train'\n",
    "for i in tqdm(train['Image']):\n",
    "    final_path=os.path.join(path,i)\n",
    "    img=cv2.imread(final_path)\n",
    "    img=cv2.resize(img,(224,224))\n",
    "    img=img.astype('float32')\n",
    "    train_img.append(img)\n",
    "    train_label.append(train['target'][j])\n",
    "    j=j+1"
   ]
  },
  {
   "cell_type": "code",
   "execution_count": 11,
   "metadata": {
    "colab": {
     "base_uri": "https://localhost:8080/",
     "height": 34
    },
    "colab_type": "code",
    "id": "7RyU8JEB8qEs",
    "outputId": "0d6107e4-4bab-4ad5-bc33-a4f26f3b480e"
   },
   "outputs": [
    {
     "name": "stderr",
     "output_type": "stream",
     "text": [
      "100%|██████████| 156/156 [01:13<00:00,  2.13it/s]\n"
     ]
    }
   ],
   "source": [
    "test_img=[]\n",
    "path='/content/drive/My Drive/dataset/dataset/test'\n",
    "for i in tqdm(test['Image']):\n",
    "    final_path=os.path.join(path,i)\n",
    "    img=cv2.imread(final_path)\n",
    "    img=cv2.resize(img,(224,224))\n",
    "    img=img.astype('float32')\n",
    "    test_img.append(img)"
   ]
  },
  {
   "cell_type": "code",
   "execution_count": 12,
   "metadata": {
    "colab": {},
    "colab_type": "code",
    "id": "zDBg9fGb813R"
   },
   "outputs": [],
   "source": [
    "from tensorflow.keras.preprocessing.image import ImageDataGenerator\n",
    "datagenerator = ImageDataGenerator(\n",
    "        featurewise_center=False,  \n",
    "        samplewise_center=False,  \n",
    "        featurewise_std_normalization=False,  \n",
    "        samplewise_std_normalization=False,  \n",
    "        rotation_range=10,  \n",
    "        zoom_range = 0.10,  \n",
    "        width_shift_range=0.10,  \n",
    "        height_shift_range=0.10,  \n",
    "        horizontal_flip=True,  \n",
    "        vertical_flip=False) \n",
    "\n",
    "\n",
    "datagenerator.fit(train_img)"
   ]
  },
  {
   "cell_type": "code",
   "execution_count": 13,
   "metadata": {
    "colab": {
     "base_uri": "https://localhost:8080/",
     "height": 68
    },
    "colab_type": "code",
    "id": "GAm0gec584Y-",
    "outputId": "8eec6af5-00a4-4389-bab2-597d029b1da9"
   },
   "outputs": [
    {
     "name": "stdout",
     "output_type": "stream",
     "text": [
      "(364, 224, 224, 3)\n",
      "(156, 224, 224, 3)\n",
      "(364,)\n"
     ]
    }
   ],
   "source": [
    "\n",
    "train_img=np.array(train_img)\n",
    "test_img=np.array(test_img)\n",
    "train_label=np.array(train_label)\n",
    "print(train_img.shape)\n",
    "print(test_img.shape)\n",
    "print(train_label.shape)"
   ]
  },
  {
   "cell_type": "code",
   "execution_count": 14,
   "metadata": {
    "colab": {
     "base_uri": "https://localhost:8080/",
     "height": 34
    },
    "colab_type": "code",
    "id": "aqbCLfQW86Z6",
    "outputId": "21a07a9b-d061-4219-9318-13b396e785d1"
   },
   "outputs": [
    {
     "name": "stderr",
     "output_type": "stream",
     "text": [
      "Using TensorFlow backend.\n"
     ]
    }
   ],
   "source": [
    "from tensorflow.keras.applications.vgg16 import VGG16\n",
    "\n",
    "from tensorflow.keras.layers import Flatten,Dense,Dropout,BatchNormalization\n",
    "from tensorflow.keras.models import Model,Sequential\n",
    "from tensorflow.keras.utils import to_categorical\n",
    "from keras.layers import Conv2D, MaxPooling2D, BatchNormalization\n",
    "\n",
    "from tensorflow.keras.callbacks import ReduceLROnPlateau"
   ]
  },
  {
   "cell_type": "code",
   "execution_count": 15,
   "metadata": {
    "colab": {
     "base_uri": "https://localhost:8080/",
     "height": 51
    },
    "colab_type": "code",
    "id": "NVPQGEXX88ri",
    "outputId": "e3eb1257-8ccf-43ba-8a3c-6e1eebcb172a"
   },
   "outputs": [
    {
     "name": "stdout",
     "output_type": "stream",
     "text": [
      "Downloading data from https://github.com/fchollet/deep-learning-models/releases/download/v0.1/vgg19_weights_tf_dim_ordering_tf_kernels_notop.h5\n",
      "80142336/80134624 [==============================] - 7s 0us/step\n"
     ]
    }
   ],
   "source": [
    "\n",
    "from keras.applications import VGG19\n",
    "from keras.applications.vgg19 import preprocess_input\n",
    "from keras.layers import *\n",
    "from keras.models import Sequential\n",
    "vgg19 = VGG19(weights='imagenet', include_top=False, input_shape = (224, 224, 3),pooling='avg')\n",
    "vgg19.trainable = False\n",
    "\n",
    "model = Sequential([\n",
    "  vgg19, \n",
    "  Dense(1024, activation='relu'),\n",
    "  Dropout(0.4),\n",
    "  Dense(256, activation='relu'),\n",
    "  Dense(8, activation='softmax'),\n",
    "])"
   ]
  },
  {
   "cell_type": "code",
   "execution_count": 16,
   "metadata": {
    "colab": {
     "base_uri": "https://localhost:8080/",
     "height": 1000
    },
    "colab_type": "code",
    "id": "XqRqDkLP8-jN",
    "outputId": "a824c72c-be92-4bd8-92c2-00f6d29fb0c2"
   },
   "outputs": [
    {
     "name": "stdout",
     "output_type": "stream",
     "text": [
      "Epoch 1/30\n",
      "6/6 [==============================] - 10s 2s/step - loss: 4.8824 - accuracy: 0.2527\n",
      "Epoch 2/30\n",
      "6/6 [==============================] - 4s 691ms/step - loss: 1.8686 - accuracy: 0.4835\n",
      "Epoch 3/30\n",
      "6/6 [==============================] - 4s 683ms/step - loss: 1.3020 - accuracy: 0.5989\n",
      "Epoch 4/30\n",
      "6/6 [==============================] - 4s 684ms/step - loss: 0.9784 - accuracy: 0.6429\n",
      "Epoch 5/30\n",
      "6/6 [==============================] - 4s 684ms/step - loss: 0.8592 - accuracy: 0.7225\n",
      "Epoch 6/30\n",
      "6/6 [==============================] - 4s 681ms/step - loss: 0.6459 - accuracy: 0.7390\n",
      "Epoch 7/30\n",
      "6/6 [==============================] - 4s 685ms/step - loss: 0.5322 - accuracy: 0.7885\n",
      "Epoch 8/30\n",
      "6/6 [==============================] - 4s 697ms/step - loss: 0.3795 - accuracy: 0.8571\n",
      "Epoch 9/30\n",
      "6/6 [==============================] - 4s 687ms/step - loss: 0.3572 - accuracy: 0.8681\n",
      "Epoch 10/30\n",
      "6/6 [==============================] - 4s 677ms/step - loss: 0.2714 - accuracy: 0.9066\n",
      "Epoch 11/30\n",
      "6/6 [==============================] - 4s 685ms/step - loss: 0.2530 - accuracy: 0.8984\n",
      "Epoch 12/30\n",
      "6/6 [==============================] - 4s 684ms/step - loss: 0.2387 - accuracy: 0.9176\n",
      "Epoch 13/30\n",
      "6/6 [==============================] - 4s 680ms/step - loss: 0.2533 - accuracy: 0.9176\n",
      "Epoch 14/30\n",
      "6/6 [==============================] - 4s 686ms/step - loss: 0.1685 - accuracy: 0.9423\n",
      "Epoch 15/30\n",
      "6/6 [==============================] - 4s 687ms/step - loss: 0.1662 - accuracy: 0.9505\n",
      "Epoch 16/30\n",
      "6/6 [==============================] - 4s 701ms/step - loss: 0.1127 - accuracy: 0.9698\n",
      "Epoch 17/30\n",
      "6/6 [==============================] - 4s 690ms/step - loss: 0.1302 - accuracy: 0.9588\n",
      "Epoch 18/30\n",
      "6/6 [==============================] - 4s 678ms/step - loss: 0.1277 - accuracy: 0.9643\n",
      "\n",
      "Epoch 00018: ReduceLROnPlateau reducing learning rate to 0.00010000000474974513.\n",
      "Epoch 19/30\n",
      "6/6 [==============================] - 4s 681ms/step - loss: 0.1294 - accuracy: 0.9615\n",
      "Epoch 20/30\n",
      "6/6 [==============================] - 4s 691ms/step - loss: 0.0868 - accuracy: 0.9698\n",
      "Epoch 21/30\n",
      "6/6 [==============================] - 4s 693ms/step - loss: 0.0961 - accuracy: 0.9670\n",
      "Epoch 22/30\n",
      "6/6 [==============================] - 4s 688ms/step - loss: 0.0971 - accuracy: 0.9725\n",
      "\n",
      "Epoch 00022: ReduceLROnPlateau reducing learning rate to 1.0000000474974514e-05.\n",
      "Epoch 23/30\n",
      "6/6 [==============================] - 4s 684ms/step - loss: 0.0949 - accuracy: 0.9753\n",
      "Epoch 24/30\n",
      "6/6 [==============================] - 4s 682ms/step - loss: 0.0858 - accuracy: 0.9698\n",
      "Epoch 25/30\n",
      "6/6 [==============================] - 4s 699ms/step - loss: 0.0681 - accuracy: 0.9808\n",
      "Epoch 26/30\n",
      "6/6 [==============================] - 4s 682ms/step - loss: 0.0650 - accuracy: 0.9863\n",
      "Epoch 27/30\n",
      "6/6 [==============================] - 4s 687ms/step - loss: 0.1048 - accuracy: 0.9615\n",
      "Epoch 28/30\n",
      "6/6 [==============================] - 4s 680ms/step - loss: 0.0889 - accuracy: 0.9753\n",
      "\n",
      "Epoch 00028: ReduceLROnPlateau reducing learning rate to 1e-05.\n",
      "Epoch 29/30\n",
      "6/6 [==============================] - 4s 679ms/step - loss: 0.0687 - accuracy: 0.9808\n",
      "Epoch 30/30\n",
      "6/6 [==============================] - 4s 690ms/step - loss: 0.0855 - accuracy: 0.9780\n"
     ]
    },
    {
     "data": {
      "text/plain": [
       "<keras.callbacks.callbacks.History at 0x7f2b700918d0>"
      ]
     },
     "execution_count": 16,
     "metadata": {
      "tags": []
     },
     "output_type": "execute_result"
    }
   ],
   "source": [
    "\n",
    "from keras.optimizers import Adam,SGD,Adagrad,Adadelta,RMSprop\n",
    "\n",
    "vgg19.trainable=False\n",
    "\n",
    "reduce_learning_rate = ReduceLROnPlateau(monitor='loss',\n",
    "                                         factor=0.1,\n",
    "                                         patience=2,\n",
    "                                         cooldown=2,\n",
    "                                         min_lr=0.00001,\n",
    "                                         verbose=1)\n",
    "\n",
    "callbacks = [reduce_learning_rate]\n",
    "    \n",
    "\n",
    "\n",
    "model.compile( optimizer='adam',loss='categorical_crossentropy',metrics=['accuracy'])\n",
    "model.fit_generator(datagenerator.flow(train_img, to_categorical(train_label,8), batch_size=64),\n",
    "                    epochs=30,callbacks=callbacks)"
   ]
  },
  {
   "cell_type": "code",
   "execution_count": 17,
   "metadata": {
    "colab": {},
    "colab_type": "code",
    "id": "Nw8QuN_D9EYK"
   },
   "outputs": [],
   "source": [
    "\n",
    "labels = model.predict(test_img)\n",
    "label = [np.argmax(i) for i in labels]\n",
    "class_label = [inverse_map[x] for x in label]\n",
    "submission = pd.DataFrame({ 'Image': test.Image, 'target': class_label })\n",
    "submission.to_csv('result.csv', index=False)"
   ]
  },
  {
   "cell_type": "code",
   "execution_count": null,
   "metadata": {
    "colab": {},
    "colab_type": "code",
    "id": "v7GozvBi_OV9"
   },
   "outputs": [],
   "source": []
  }
 ],
 "metadata": {
  "accelerator": "GPU",
  "colab": {
   "name": "Dance Form.ipynb",
   "provenance": []
  },
  "kernelspec": {
   "display_name": "Python 3",
   "language": "python",
   "name": "python3"
  },
  "language_info": {
   "codemirror_mode": {
    "name": "ipython",
    "version": 3
   },
   "file_extension": ".py",
   "mimetype": "text/x-python",
   "name": "python",
   "nbconvert_exporter": "python",
   "pygments_lexer": "ipython3",
   "version": "3.8.3"
  }
 },
 "nbformat": 4,
 "nbformat_minor": 1
}
