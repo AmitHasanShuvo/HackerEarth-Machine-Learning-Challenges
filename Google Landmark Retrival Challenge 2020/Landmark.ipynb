from zipfile import ZipFile

with ZipFile('submission.zip','w') as zip:           
  zip.write('../input/google-2020-baseline/∩╗┐basline/saved_model.pb', arcname='saved_model.pb') 
  zip.write('../input/google-2020-baseline/∩╗┐basline/variables/variables.data-00000-of-00001', arcname='variables/variables.data-00000-of-00001') 
  zip.write('../input/google-2020-baseline/∩╗┐basline/variables/variables.index', arcname='variables/variables.index') 